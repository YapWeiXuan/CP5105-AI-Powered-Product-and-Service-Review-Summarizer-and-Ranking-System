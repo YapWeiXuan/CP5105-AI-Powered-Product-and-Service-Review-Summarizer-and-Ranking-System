{
 "cells": [
  {
   "cell_type": "code",
   "execution_count": 1,
   "metadata": {},
   "outputs": [],
   "source": [
    "from nltk.translate.bleu_score import corpus_bleu, SmoothingFunction\n",
    "from nltk.translate import bleu_score\n",
    "from rouge import Rouge\n",
    "from sklearn.metrics.pairwise import cosine_similarity\n",
    "from sentence_transformers import SentenceTransformer\n",
    "from codebleu import calc_codebleu"
   ]
  },
  {
   "cell_type": "code",
   "execution_count": 2,
   "metadata": {},
   "outputs": [],
   "source": [
    "# pip install torchtext"
   ]
  },
  {
   "cell_type": "code",
   "execution_count": 3,
   "metadata": {},
   "outputs": [],
   "source": [
    "class Evaluation_Metrics:\n",
    "    def __init__(self):\n",
    "        self.model = SentenceTransformer('all-MiniLM-L6-v2')\n",
    "        self.smoothing_function = SmoothingFunction().method1\n",
    "        self.rouge = Rouge()\n",
    "\n",
    "\n",
    "    def get_rouge_scores(self, model_summary, gen_summary):\n",
    "        rouge_scores = self.rouge.get_scores(gen_summary, model_summary, avg=True)\n",
    "        return rouge_scores\n",
    "\n",
    "\n",
    "    def get_bleu_score(self, model_summary, gen_summary):\n",
    "        gen_summary = gen_summary.split()\n",
    "        model_summary = [model_summary.split()]\n",
    "        bleu_score = corpus_bleu([model_summary], [gen_summary], smoothing_function=self.smoothing_function)\n",
    "        return bleu_score\n",
    "    \n",
    "    def get_bleu_score_final(self, model_summary, gen_summary):\n",
    "        # gen_summary = gen_summary.split()\n",
    "        # model_summary = [model_summary.split()]\n",
    "        print('version 2')\n",
    "        bleu_score = bleu_score(gen_summary, model_summary)\n",
    "        return bleu_score\n",
    "\n",
    "\n",
    "    # def calculate_code_bleu_score(self, reference_code, generated_code):\n",
    "    #     code_bleu_score = calc_codebleu([reference_code], [generated_code], lang='python', weights=(0.25, 0.25, 0.25, 0.25), tokenizer=None)\n",
    "    #     # print(f\"{code_bleu_score}, {type(code_bleu_score)}\")\n",
    "    #     return code_bleu_score\n",
    "    \n",
    "    def get_semantic_similarity(self, model_summary, gen_summary):\n",
    "        gen_embedding = self.model.encode([gen_summary])\n",
    "        model_embedding = self.model.encode([model_summary])\n",
    "        similarity_score = cosine_similarity(model_embedding, gen_embedding)\n",
    "        return similarity_score[0][0]"
   ]
  },
  {
   "cell_type": "code",
   "execution_count": null,
   "metadata": {},
   "outputs": [],
   "source": []
  },
  {
   "cell_type": "code",
   "execution_count": null,
   "metadata": {},
   "outputs": [],
   "source": []
  }
 ],
 "metadata": {
  "kernelspec": {
   "display_name": "Python 3",
   "language": "python",
   "name": "python3"
  },
  "language_info": {
   "codemirror_mode": {
    "name": "ipython",
    "version": 3
   },
   "file_extension": ".py",
   "mimetype": "text/x-python",
   "name": "python",
   "nbconvert_exporter": "python",
   "pygments_lexer": "ipython3",
   "version": "3.12.0"
  }
 },
 "nbformat": 4,
 "nbformat_minor": 2
}
